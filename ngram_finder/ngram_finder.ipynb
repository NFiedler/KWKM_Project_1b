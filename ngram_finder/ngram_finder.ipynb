{
 "cells": [
  {
   "cell_type": "code",
   "execution_count": null,
   "metadata": {},
   "outputs": [],
   "source": [
    "from ngram_finder import NGramFinder\n",
    "import csv\n",
    "import nltk\n",
    "\n",
    "nltk.download('stopwords')"
   ]
  },
  {
   "cell_type": "markdown",
   "metadata": {},
   "source": [
    "## Change filepath and comment column index below"
   ]
  },
  {
   "cell_type": "code",
   "execution_count": null,
   "metadata": {},
   "outputs": [],
   "source": [
    "filepath = '../data/2020-11-20 Stadteingang Elbbruecken_Kommentare.csv'\n",
    "\n",
    "# for the elbbruecken file the comments are in the third column\n",
    "comment_index = 3"
   ]
  },
  {
   "cell_type": "code",
   "execution_count": null,
   "metadata": {},
   "outputs": [],
   "source": [
    "ngf = NGramFinder()\n",
    "\n",
    "with open(filepath, 'r', encoding='utf8') as file:\n",
    "    lines = list(csv.reader(file, delimiter=';'))\n",
    "    comments = [line[comment_index] for line in lines]\n",
    "    count = ngf.get_ngram_count(comments, 2, [])\n",
    "    print(max(count.values()))\n",
    "    for text, count in count.items():\n",
    "        if count >= 5:\n",
    "\n",
    "            print(text)"
   ]
  }
 ],
 "metadata": {
  "kernelspec": {
   "display_name": "Python 3",
   "language": "python",
   "name": "python3"
  },
  "language_info": {
   "codemirror_mode": {
    "name": "ipython",
    "version": 3
   },
   "file_extension": ".py",
   "mimetype": "text/x-python",
   "name": "python",
   "nbconvert_exporter": "python",
   "pygments_lexer": "ipython3",
   "version": "3.9.1"
  }
 },
 "nbformat": 4,
 "nbformat_minor": 4
}
