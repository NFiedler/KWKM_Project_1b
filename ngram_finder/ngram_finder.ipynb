{
 "cells": [
  {
   "cell_type": "code",
   "execution_count": 2,
   "metadata": {},
   "outputs": [],
   "source": [
    "from ngram_finder import NGramFinder\n",
    "import csv\n",
    "import nltk\n",
    "import glob\n",
    "import pandas as pd\n",
    "from sklearn.feature_extraction.text import TfidfVectorizer"
   ]
  },
  {
   "cell_type": "markdown",
   "metadata": {},
   "source": [
    "## Change filepath and comment column index below"
   ]
  },
  {
   "cell_type": "code",
   "execution_count": 37,
   "metadata": {},
   "outputs": [
    {
     "name": "stdout",
     "output_type": "stream",
     "text": [
      "now looking at../data/2020-11-20 Stadteingang Elbbrücken_Kommentare.csv\n",
      "now looking at../data/2020-11-20 Jungfernstieg_Kommentare.csv\n",
      "now looking at../data/2020-11-20 Jungfernstieg_Beiträge.csv\n",
      "{('möglich', 'ist.'): 6.492101276779917e-05, ('sprung', 'elbe'): 6.492101276779917e-05, ('elbbrücken', 'wäre'): 6.492101276779917e-05, ('100m', 'marke'): 6.492101276779917e-05, ('einfach', 'mehr'): 6.492101276779917e-05, ('elbtower', 'ja'): 6.492101276779917e-05, ('wäre', 'schön,'): 6.492101276779917e-05, ('direkt', 'neben'): 6.492101276779917e-05, ('schreit', 'ja'): 6.492101276779917e-05, ('sieht', 'ja'): 6.492101276779917e-05, ('cobe', 'hochhaus'): 6.492101276779917e-05, ('fischgaststätte', 'fall'): 6.492101276779917e-05, ('fall', 'erhalten'): 6.492101276779917e-05, ('erhalt', 'fischgaststätte'): 6.492101276779917e-05, ('erhalten', 'werden.'): 6.492101276779917e-05, ('variante', 'b'): 6.492101276779917e-05, ('planung', 'einbezogen'): 6.492101276779917e-05, ('beiden', 'varianten'): 6.492101276779917e-05, ('finde', 'variante'): 6.492101276779917e-05, ('seit', 'fast'): 6.492101276779917e-05, ('veddeler', 'fischgaststätte'): 6.492101276779917e-05, ('ja', 'schön'): 6.492101276779917e-05, ('freundlichen', 'grüßen'): 6.492101276779917e-05, ('dringend', 'benötigt'): 6.492101276779917e-05, ('gar', 'mehr'): 6.492101276779917e-05, ('beiträge', 'sachlich'): 6.492101276779917e-05, ('bleiben.', 'beachten'): 6.492101276779917e-05, ('darauf,', 'beiträge'): 6.492101276779917e-05, ('sachlich', 'bleiben.'): 6.492101276779917e-05, ('mehr', 'auto'): 6.492101276779917e-05, ('ja', 'wohl'): 6.492101276779917e-05, ('ring', '1'): 6.492101276779917e-05, ('jungfernstieg', 'gab'): 6.492101276779917e-05, ('auto', 'innenstadt'): 6.492101276779917e-05, ('erst', 'recht'): 6.492101276779917e-05, ('neue', 'behindertenparkplätze'): 6.492101276779917e-05, ('shared', 'space'): 6.492101276779917e-05, ('innerhalb', 'ring'): 6.492101276779917e-05, ('stimme', 'vollständig'): 6.492101276779917e-05, ('vielleicht', 'sollten'): 6.492101276779917e-05, ('weniger', 'platz'): 6.492101276779917e-05, ('gibt', 'schwarze'): 6.492101276779917e-05, ('schwarze', 'schafe'): 6.492101276779917e-05, ('gab', 'schon'): 6.492101276779917e-05, ('geht', 'nicht,'): 6.492101276779917e-05, ('parkhäuser', 'gibt'): 6.492101276779917e-05, ('weniger', 'autos'): 6.492101276779917e-05, ('darüber', 'hinaus'): 6.492101276779917e-05, ('nein', 'danke!'): 6.492101276779917e-05, ('hamburg', 'weltstadt'): 6.492101276779917e-05, ('autos', 'mehr'): 6.492101276779917e-05, ('parkplätze', 'weg.'): 6.492101276779917e-05, ('weltstadt', 'hamburg'): 6.492101276779917e-05, ('\"hamburg', 'jungfernstieg'): 6.492101276779917e-05, ('individuelle', 'freiheit'): 6.492101276779917e-05, ('wind', 'wetter'): 6.492101276779917e-05, ('mehr', 'tote'): 6.492101276779917e-05, ('ausgebaut', 'werden,'): 6.492101276779917e-05, ('autofreien', 'jungfernstieg'): 6.492101276779917e-05, ('finde', 'gut.'): 6.492101276779917e-05, ('nehmen', 'platz'): 6.492101276779917e-05, ('direkt', 'geschäft'): 6.492101276779917e-05, ('gibt', 'genug'): 6.492101276779917e-05, ('60', 'jahren'): 6.492101276779917e-05, ('bus', 'bahn'): 6.492101276779917e-05, ('tolle', 'idee'): 6.492101276779917e-05, ('bitte', 'beachten'): 6.492101276779917e-05, ('eigenen', 'grundstück'): 6.492101276779917e-05, ('hohen', 'mieten'): 6.492101276779917e-05, ('richtige', 'richtung'): 6.492101276779917e-05, ('schritt', 'richtige'): 6.492101276779917e-05, ('tierfeindlichen', 'hamburg.'): 6.492101276779917e-05, ('tauben', 'hamburg'): 6.492101276779917e-05, ('idee.', 'tauben'): 6.492101276779917e-05, ('wunderbare', 'idee.'): 6.492101276779917e-05, ('behandelt', 'werden.'): 6.492101276779917e-05, ('brauchen', 'zuhause'): 6.492101276779917e-05, ('zuhause', 'tierfeindlichen'): 6.492101276779917e-05, ('mensch', 'tier'): 6.492101276779917e-05, ('super', 'idee,'): 6.492101276779917e-05, ('beste', 'lösung'): 6.492101276779917e-05, ('betreute', 'taubenschläge'): 6.492101276779917e-05, ('tier', 'mensch'): 6.492101276779917e-05, ('endlich', 'verantwortung'): 6.492101276779917e-05, ('hamburger', 'innenstadt'): 6.492101276779917e-05, ('immer', 'weniger'): 6.492101276779917e-05, ('richtung', 'jungfernstieg'): 6.492101276779917e-05, ('große', 'bleichen'): 6.492101276779917e-05, ('sperrung', 'jungfernstiegs'): 6.492101276779917e-05, ('unterwegs', 'sind.'): 6.492101276779917e-05, ('autofreie', 'jungfernstieg'): 6.492101276779917e-05, ('redaktion:', 'teil'): 6.492101276779917e-05, ('angrenzenden', 'straßen'): 6.492101276779917e-05, ('u.a.', 'gewerbliche'): 8.656135035706557e-05, ('strom-', 'wasseranschlüssen?!'): 8.656135035706557e-05, ('bootsanleger', 'etc.'): 8.656135035706557e-05, ('zwecke', 'strom-'): 8.656135035706557e-05, ('geben,', 'u.a.'): 8.656135035706557e-05, ('gewerbliche', 'zwecke'): 8.656135035706557e-05, ('etc.', 'geben,'): 8.656135035706557e-05, ('billhorner', 'brückenstraße'): 8.656135035706557e-05, ('brandshofer', 'deich'): 8.656135035706557e-05, ('neben', 'elbtower'): 8.656135035706557e-05, ('city', 'nord'): 8.656135035706557e-05, ('ja', 'eh'): 8.656135035706557e-05, ('a', 'variante'): 8.656135035706557e-05, ('neue', 'moschee'): 8.656135035706557e-05, ('entwurf', 'b'): 8.656135035706557e-05, ('beitrag', 'wurde'): 8.656135035706557e-05, ('redaktion:', 'beitrag'): 8.656135035706557e-05, ('viele', 'menschen'): 8.656135035706557e-05, ('öffentlichen', 'raum'): 8.656135035706557e-05, ('seit', 'jahren'): 8.656135035706557e-05, ('geht', 'darum,'): 8.656135035706557e-05, ('schon', 'gibt'): 8.656135035706557e-05, ('schon', 'lange'): 8.656135035706557e-05, ('mehrheit', 'bezirk'): 8.656135035706557e-05, ('mitte', 'volkswille'): 8.656135035706557e-05, ('spd-fraktion', 'führt...'): 8.656135035706557e-05, ('ist,', 'spd-fraktion'): 8.656135035706557e-05, ('volkswille', 'ist,'): 8.656135035706557e-05, ('vergessen,', 'grüne'): 8.656135035706557e-05, ('bezirk', 'mitte'): 8.656135035706557e-05, ('tempo', '20'): 8.656135035706557e-05, ('neuen', 'jungfernstieg'): 8.656135035706557e-05, ('neuer', 'wall'): 8.656135035706557e-05, ('damen', 'herren,'): 8.656135035706557e-05, ('geehrte', 'damen'): 8.656135035706557e-05, ('vielen', 'dank'): 8.656135035706557e-05, ('endlich', 'mal'): 0.00010820168794633196, ('ja', 'schon'): 0.00010820168794633196, ('erhalten', 'bleiben'): 0.00010820168794633196, ('gibt', 'ja'): 0.00010820168794633196, ('grüne', 'mehrheit'): 0.00010820168794633196, ('einfach', 'mal'): 0.00010820168794633196, ('gute', 'idee'): 0.00010820168794633196, ('super', 'idee!'): 0.00010820168794633196, ('tauben', 'brauchen'): 0.00010820168794633196, ('tauben', 'gehören'): 0.00010820168794633196, ('armen', 'tiere'): 0.00010820168794633196, ('variante', 'a'): 0.00015148236312486474, ('bitte', 'achten'): 0.00015148236312486474, ('achten', 'darauf,'): 0.00015148236312486474, ('z.', 'b.'): 0.00015148236312486474, ('gute', 'idee!'): 0.00015148236312486474, ('neuen', 'wall'): 0.00017312270071413114, ('gute', 'idee.'): 0.00017312270071413114, ('gelöscht]', 'anmerkung'): 0.00019476303830339754, ('(siehe', 'faq).'): 0.00019476303830339754, ('beachten', 'regeln'): 0.00021640337589266391, ('wurde', 'entfernt.'): 0.0002380437134819303, ('anmerkung', 'redaktion:'): 0.0002380437134819303, ('entfernt.', 'bitte'): 0.0002380437134819303, ('regeln', 'nutzung'): 0.0002380437134819303, ('beteiligungsplattform', '(siehe'): 0.0002380437134819303, ('nutzung', 'beteiligungsplattform'): 0.0002380437134819303, ('immer', 'mehr'): 0.0003462454014282623}\n"
     ]
    }
   ],
   "source": [
    "csvfile = glob.glob(f\"../data/*.csv\")\n",
    "\n",
    "ngrams = []\n",
    "count_of_all_words = 0\n",
    "\n",
    "for file in csvfile:\n",
    "    if 'Beiträge'in file:\n",
    "        comment_index = 10\n",
    "    if 'Kommentare' in file:\n",
    "        comment_index = 3\n",
    "\n",
    "    print(\"now looking at\" + str(file))\n",
    "    curr_ngrams, count = Gen_Freq_Ngrams(file, comment_index)\n",
    "    ngrams.append(curr_ngrams)\n",
    "    count_of_all_words += count\n",
    "    \n",
    "# generate absolute amount of ngrams coming up\n",
    "ngramdict = {}\n",
    "for file in ngrams:\n",
    "    for ngram in file:\n",
    "        current = ngramdict.get(ngram[0])\n",
    "        if current == None:\n",
    "            ngramdict[ngram[0]] = ngram[1]\n",
    "        else:\n",
    "            ngramdict[ngram[0]] += ngram[1]\n",
    "# print(ngramdict)\n",
    "# generate relative amount of ngrams\n",
    "for key in ngramdict.keys():\n",
    "    ngramdict[key] = ngramdict[key] / count_of_all_words\n",
    "\n",
    "sorted_keys = sorted(ngramdict, key=ngramdict.get)\n",
    "\n",
    "sorted_dict = {}\n",
    "for w in sorted_keys:\n",
    "    sorted_dict[w] = ngramdict[w]\n",
    "\n",
    "print(sorted_dict)\n",
    "\n",
    "    \n",
    "    \n",
    "    \n",
    "# filepath = '../data/2020-11-20 Stadteingang Elbbruecken_Kommentare.csv'\n",
    "\n",
    "\n",
    "\n",
    "# for the elbbruecken file the comments are in the fourth column\n",
    "#comment_index = 3"
   ]
  },
  {
   "cell_type": "code",
   "execution_count": 14,
   "metadata": {},
   "outputs": [],
   "source": [
    "def Gen_Freq_Ngrams(filepath, comment_index):\n",
    "\n",
    "    ngf = NGramFinder()\n",
    "    with open(filepath, 'r', encoding='utf8') as file:\n",
    "        lines = list(csv.reader(file, delimiter=';'))\n",
    "\n",
    "        comments = [line[comment_index] for line in lines]\n",
    "        \n",
    "        \n",
    "        count_all_words = 0\n",
    "        for comment in comments:\n",
    "            count_all_words += len(comment.split(' '))\n",
    "        count = ngf.get_ngram_count(comments, 2, [])\n",
    "        # print(\"Höchste Häufigkeit eines N-Grams: \" + str(max(count.values())))\n",
    "        frequent_n_grams = list()\n",
    "        # length_all_comments = \n",
    "        for text, count in count.items():\n",
    "            if count >= 3:\n",
    "                frequent_n_grams.append((text, count))\n",
    "                #print(text)\n",
    "                \n",
    "    return frequent_n_grams, count_all_words           "
   ]
  },
  {
   "cell_type": "code",
   "execution_count": null,
   "metadata": {
    "scrolled": false
   },
   "outputs": [],
   "source": [
    "word_count_before = 5 #float('inf')\n",
    "word_count_after = 3\n",
    "\n",
    "for ngram in frequent_n_grams:\n",
    "    print (\"Suche nach \" + str(ngram) + \"\\n\")\n",
    "    for context in ngf.get_contexts_for_ngram(comments, ngram, word_count_before, word_count_after):\n",
    "        print(\"    \" + context + \"\\n\")\n"
   ]
  },
  {
   "cell_type": "code",
   "execution_count": null,
   "metadata": {},
   "outputs": [],
   "source": []
  },
  {
   "cell_type": "code",
   "execution_count": null,
   "metadata": {},
   "outputs": [],
   "source": []
  }
 ],
 "metadata": {
  "kernelspec": {
   "display_name": "Python 3",
   "language": "python",
   "name": "python3"
  },
  "language_info": {
   "codemirror_mode": {
    "name": "ipython",
    "version": 3
   },
   "file_extension": ".py",
   "mimetype": "text/x-python",
   "name": "python",
   "nbconvert_exporter": "python",
   "pygments_lexer": "ipython3",
   "version": "3.6.9"
  }
 },
 "nbformat": 4,
 "nbformat_minor": 4
}
