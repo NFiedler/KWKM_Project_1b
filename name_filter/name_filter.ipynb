{
 "cells": [
  {
   "cell_type": "code",
   "execution_count": 2,
   "metadata": {},
   "outputs": [],
   "source": [
    "import name_filter\n",
    "import csv \n",
    "nameFilter = name_filter.NameFilter(interactive=False)"
   ]
  },
  {
   "cell_type": "markdown",
   "metadata": {},
   "source": [
    "## Put the Json filepath for your proceedings here:"
   ]
  },
  {
   "cell_type": "code",
   "execution_count": 3,
   "metadata": {},
   "outputs": [],
   "source": [
    "texts = list()\n",
    "#with open(\"verfahren/2020-11-20 Stadteingang Elbbrücken_Kommentare.csv\", \"r\") as f:\n",
    "with open(\"verfahren/2020-11-20 Jungfernstieg_Kommentare.csv\", \"r\") as f:\n",
    "    data_raw = list(csv.reader(f, delimiter=\";\"))[1:]\n",
    "# this line is for Beiträge:\n",
    "# texts = [(text[0], text[10]) for text in data_raw]\n",
    "# this line is for Kommentare:\n",
    "texts = [(text[1], text[3]) for text in data_raw]"
   ]
  },
  {
   "cell_type": "code",
   "execution_count": 4,
   "metadata": {},
   "outputs": [
    {
     "name": "stdout",
     "output_type": "stream",
     "text": [
      "found surname \"Wetter\"\n",
      "found surname \"Steuer\"\n",
      "found surname \"Wunsch\"\n",
      "found first name \"Johannes\"\n",
      "found surname \"Johannes\"\n",
      "found first name \"Michael\"\n",
      "found surname \"Michael\"\n",
      "found surname \"Wahl\"\n",
      "found surname \"Weil\"\n",
      "found surname \"Ende\"\n",
      "found surname \"Buse\"\n",
      "found surname \"Ferner\"\n",
      "found surname \"Juengst\"\n",
      "found surname \"Artz\"\n",
      "found surname \"Wahl\"\n",
      "found surname \"Ende\"\n",
      "The following text likely contains a name that has to be removed:\n",
      "('71', 'Danke! Wir haben es ja zumindest teilweise in der Hand. Wir können nur hoffen, dass sich Hamburg besinnt und zur nächsten Wahl Schwarz-Gelb gewählt wird. Dann hat der „Abriss der Stadt“ (Infrastruktur und Baudenkmäler) endlich ein Ende. Vielleicht können wir dann ja wenigstens noch ein bisschen was vom ehemals prachtvollen Hamburg retten...')\n",
      "\n",
      "found surname \"Wunsch\"\n",
      "found surname \"Wetter\"\n",
      "found surname \"Wetter\"\n",
      "found surname \"Weil\"\n",
      "found surname \"Wille\"\n",
      "found surname \"Wetter\"\n",
      "found surname \"Ende\"\n",
      "found surname \"Poller\"\n",
      "found surname \"Steuer\"\n",
      "found first name \"Anne\"\n",
      "found surname \"Landes\"\n",
      "found surname \"Roller\"\n",
      "found surname \"Wunder\"\n",
      "found surname \"Lustig\"\n",
      "found surname \"Fehler\"\n",
      "found surname \"Wetter\"\n",
      "found surname \"Scheuer\"\n",
      "found surname \"Mutter\"\n",
      "found surname \"Ferner\"\n",
      "found surname \"Jungen\"\n",
      "found first name \"Fritz\"\n",
      "found surname \"Fritz\"\n",
      "found surname \"Schumacher\"\n",
      "found first name \"Fritz\" followed by surname \"Fritz\"\n",
      "The following text likely contains a name that has to be removed:\n",
      "('623', 'Da sagen die Medien aber etwas anderes. Laut MoPo ist die gesamte Fritz-Schumacher-Siedlung denkmalgeschützt, weshalb auch keine Parkplätze auf den Grundstücken genehmigt werden können: https://www.mopo.de/hamburg/parkplatz-aerger-in-hamburg-radweg-plan-sorgt-fuer-anwohner-wut-36809380 Im Übrigen verwehre ich mich gegen die Bezeichnung als \"Öko-Diktator\" und würde dir raten, jetzt mal halblang zu machen, denn auch im Internet kann man nicht ohne Konsequenzen andere beleidigen.')\n",
      "\n",
      "found surname \"Weil\"\n",
      "found surname \"Wahl\"\n",
      "found surname \"Wetter\"\n",
      "found surname \"Wetter\"\n",
      "found surname \"Steuer\"\n",
      "found surname \"Steuer\"\n",
      "The following text likely contains a name that has to be removed:\n",
      "('333', 'Nur weil Autofahrer Kfz-Steuer zahlen, gehört ihnen die Stadt noch lange nicht. Die Steuer reicht zur Errichtung und Instandhaltung der Kfz-Infrastruktur bei weitem nicht aus. Ein 2 t SUV zieht die Straße mehr in Mitleidenschaft als ein 80 kg Radfahrer, sodass diese früher saniert werden muss. Der Großteil der Kosten hierfür wird durch die nicht zweckgebundenen Einnahmen aus anderen Steuern finanziert, die auch Radfahrer zahlen. Letztendlich finanzieren also Radfahrer die Kfz-Infrastruktur mit!')\n",
      "\n",
      "found surname \"Bund\"\n",
      "found surname \"Weil\"\n",
      "found surname \"Leib\"\n",
      "found first name \"Ludwig\"\n",
      "found surname \"Ludwig\"\n",
      "found surname \"Erhard\"\n",
      "found surname \"Brandt\"\n",
      "found first name \"Ludwig\" followed by surname \"Ludwig\"\n",
      "The following text likely contains a name that has to be removed:\n",
      "('376', 'Und wo wollen Sie den Platz dafür hernehmen? Einfach mal eine Schneise in die bestehende Bebauung schlagen wie bei der Ost-West-/Ludwig-Erhard-/Willy-Brandt-Straße? Das ging vielleicht nach dem Krieg, als Hamburg eh in Trümmern lag, aber heute zum Glück nicht mehr. Nein, wir müssen den vorhandenen Straßenraum besser nutzen und gerechter auf alle Mobilitätsformen aufteilen. Dafür müssen Autofahrer sich dann halt von ihren lang gehegten Privilegien verabschieden müssen.')\n",
      "\n",
      "found first name \"Michael\"\n",
      "found surname \"Michael\"\n",
      "found surname \"Cramer\"\n",
      "found first name \"Michael\" followed by surname \"Michael\"\n",
      "The following text likely contains a name that has to be removed:\n",
      "('418', 'Von wem wurde eigentlich diese Studie bei der TU Dresden beauftragt? Antwort: Vom Bündnis 90 / Die Grünen-Politiker Michael Cramer in der Funktion als Europaabgeordneter der EFA. Bestimmt ist diese Studie also VOLLKOMMEN neutral... und nicht tendenziell..., traue keiner Studie die man nicht selbst bezahlt hat...?')\n",
      "\n",
      "found surname \"Steuer\"\n",
      "found surname \"Link\"\n",
      "found surname \"Weil\"\n",
      "found surname \"Ende\"\n",
      "found surname \"Ferner\"\n",
      "found surname \"Rings\"\n",
      "found surname \"Last\"\n",
      "found surname \"Spiess\"\n",
      "found surname \"Noe\"\n",
      "found surname \"Springer\"\n",
      "found surname \"Brandt\"\n",
      "The following text likely contains a name that has to be removed:\n",
      "('644', 'Entweder es kehrt Verkehrsruhe schon wenige Monate nach Stilllegung des Jungfernstieg ein weil sich der Verkehr in den umliegenden Straßen staut und verheddert, nach dem Motto: einmal und nicht wieder dahin. Oder Der gesamte City-Bereich zwischen Esplanade,Caffamacherreihe, Springer-Platz, Stadthausbrücke, Willy-Brandt-Strasse, Klosterwall und Glockengiesserwall bis Ballindamm wird autoarm gemacht. Dann bedarf es zusätzlicher Parkmöglichkeiten um die Peripherie herum sonst droht Scheintot.')\n",
      "\n",
      "found surname \"Rolle\"\n"
     ]
    }
   ],
   "source": [
    "name_threshold = 0.2 # change this to a lower value so it will tell you about possible names more often, higher means only more likelier names\n",
    "for text in texts:\n",
    "    if nameFilter.classify(text[1]) > name_threshold:\n",
    "        print(\"The following text likely contains a name that has to be removed:\")\n",
    "        print(text)\n",
    "        print()\n",
    "        "
   ]
  },
  {
   "cell_type": "code",
   "execution_count": null,
   "metadata": {},
   "outputs": [],
   "source": []
  }
 ],
 "metadata": {
  "kernelspec": {
   "display_name": "Python 3",
   "language": "python",
   "name": "python3"
  },
  "language_info": {
   "codemirror_mode": {
    "name": "ipython",
    "version": 3
   },
   "file_extension": ".py",
   "mimetype": "text/x-python",
   "name": "python",
   "nbconvert_exporter": "python",
   "pygments_lexer": "ipython3",
   "version": "3.6.9"
  }
 },
 "nbformat": 4,
 "nbformat_minor": 4
}
