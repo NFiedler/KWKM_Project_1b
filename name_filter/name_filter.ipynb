{
 "cells": [
  {
   "cell_type": "code",
   "execution_count": null,
   "metadata": {},
   "outputs": [],
   "source": [
    "import name_filter\n",
    "import csv \n",
    "nameFilter = name_filter.NameFilter(interactive_add=False, interactive_adapt=True)"
   ]
  },
  {
   "cell_type": "markdown",
   "metadata": {},
   "source": [
    "## Put the Json filepath for your proceedings here:"
   ]
  },
  {
   "cell_type": "code",
   "execution_count": null,
   "metadata": {},
   "outputs": [],
   "source": [
    "texts = list()\n",
    "#with open(\"verfahren/2020-11-20 Stadteingang Elbbrücken_Kommentare.csv\", \"r\") as f:\n",
    "with open(\"../data/2020-11-20 Jungfernstieg_Kommentare.csv\", \"r\") as f:\n",
    "    data_raw = list(csv.reader(f, delimiter=\";\"))[1:]\n",
    "# this line is for Beiträge:\n",
    "# texts = [(text[0], text[10]) for text in data_raw]\n",
    "# this line is for Kommentare:\n",
    "texts = [(text[1], text[3]) for text in data_raw]"
   ]
  },
  {
   "cell_type": "code",
   "execution_count": null,
   "metadata": {},
   "outputs": [],
   "source": [
    "name_threshold = 2 # change this to a lower value so it will tell you about possible names more often, higher means only more likelier names\n",
    "for text in texts:\n",
    "    if nameFilter.classify(text[1]) >= name_threshold:\n",
    "        print(\"The following text likely contains a name that has to be removed:\")\n",
    "        print(text)\n",
    "        print()\n",
    "        "
   ]
  },
  {
   "cell_type": "code",
   "execution_count": null,
   "metadata": {},
   "outputs": [],
   "source": []
  },
  {
   "cell_type": "code",
   "execution_count": null,
   "metadata": {},
   "outputs": [],
   "source": []
  }
 ],
 "metadata": {
  "kernelspec": {
   "display_name": "Python 3",
   "language": "python",
   "name": "python3"
  },
  "language_info": {
   "codemirror_mode": {
    "name": "ipython",
    "version": 3
   },
   "file_extension": ".py",
   "mimetype": "text/x-python",
   "name": "python",
   "nbconvert_exporter": "python",
   "pygments_lexer": "ipython3",
   "version": "3.9.0"
  }
 },
 "nbformat": 4,
 "nbformat_minor": 4
}
